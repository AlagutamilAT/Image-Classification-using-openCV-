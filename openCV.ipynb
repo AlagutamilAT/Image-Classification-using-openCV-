import cv2
import numpy as np
import matplotlib.pyplot as plt

# Load an image from file
image_path = 'profile-img.jpg'  # Replace with your image file path
image = cv2.imread(image_path)

# Convert image to grayscale
gray_image = cv2.cvtColor(image, cv2.COLOR_BGR2GRAY)

# Apply Gaussian Blur
blurred_image = cv2.GaussianBlur(gray_image, (5, 5), 0)

# Rotate the image
(h, w) = gray_image.shape[:2]
center = (w // 2, h // 2)
angle = 45  # Angle to rotate
scale = 1.0  # Scale factor

# Compute the rotation matrix and perform the rotation
rotation_matrix = cv2.getRotationMatrix2D(center, angle, scale)
rotated_image = cv2.warpAffine(gray_image, rotation_matrix, (w, h))

# Crop the image (example: 50 pixels from each border)
x, y, w_crop, h_crop = 50, 50, w - 100, h - 100
cropped_image = gray_image[y:y+h_crop, x:x+w_crop]

# Find the dimensions and pixel values
dimensions = gray_image.shape
pixel_values = gray_image[0:10, 0:10]  # Example: top-left 10x10 pixels

# Create a negative image
negative_image = cv2.bitwise_not(gray_image)

# Display images using matplotlib
plt.figure(figsize=(12, 8))

plt.subplot(2, 3, 1)
plt.title('Original Image')
plt.imshow(cv2.cvtColor(image, cv2.COLOR_BGR2RGB))
plt.axis('off')

plt.subplot(2, 3, 2)
plt.title('Grayscale Image')
plt.imshow(gray_image, cmap='gray')
plt.axis('off')

plt.subplot(2, 3, 3)
plt.title('Blurred Image')
plt.imshow(blurred_image, cmap='gray')
plt.axis('off')

plt.subplot(2, 3, 4)
plt.title('Rotated Image')
plt.imshow(rotated_image, cmap='gray')
plt.axis('off')

plt.subplot(2, 3, 5)
plt.title('Cropped Image')
plt.imshow(cropped_image, cmap='gray')
plt.axis('off')

plt.subplot(2, 3, 6)
plt.title('Negative Image')
plt.imshow(negative_image, cmap='gray')
plt.axis('off')

plt.show()

# Print out pixel values and dimensions
print(f"Dimensions: {dimensions}")
print(f"Top-left 10x10 pixel values:\n{pixel_values}")

Dimensions: (600, 600)
Top-left 10x10 pixel values:
[[233 230 226 224 220 213 203 196 196 198]
 [235 236 238 240 243 242 240 237 218 214]
 [200 203 210 216 221 224 224 224 240 238]
 [168 173 181 188 192 194 194 195 193 201]
 [135 141 150 157 160 161 160 160 159 170]
 [121 124 128 132 133 131 128 126 130 137]
 [155 153 150 149 148 146 142 139 130 133]
 [179 173 167 164 165 165 163 160 160 163]
 [183 195 194 179 176 187 188 177 173 163]
 [231 238 233 217 215 225 224 213 197 197]]
plt.subplot(2, 3, 3)
plt.title('Blurred Image')
plt.imshow(blurred_image, cmap='gray')
plt.axis('off')
(-0.5, 599.5, 599.5, -0.5)

plt.subplot(2, 3, 5)
plt.title('Cropped Image')
plt.imshow(cropped_image, cmap='gray')
plt.axis('off')
(-0.5, 499.5, 499.5, -0.5)

 
